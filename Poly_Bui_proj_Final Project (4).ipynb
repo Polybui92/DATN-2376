{
 "cells": [
  {
   "cell_type": "code",
   "execution_count": 2,
   "id": "caebbf36-89d0-4d9d-8a76-fb3abdf7bb6e",
   "metadata": {},
   "outputs": [],
   "source": [
    "import pandas as pd"
   ]
  },
  {
   "cell_type": "code",
   "execution_count": 3,
   "id": "459bcf68-6135-450b-b0c5-37bda2f07dca",
   "metadata": {},
   "outputs": [],
   "source": [
    "# polls_filepath = 'C:/DATA/tsa_claims2.csv'\n",
    "tsa_claims2_filepath  ='C:/DATA/tsa_claims2.csv'\n",
    "tsa_claims2_df = pd.read_csv(tsa_claims2_filepath, low_memory=False)   \n",
    "\n",
    "\n",
    "\n"
   ]
  },
  {
   "cell_type": "markdown",
   "id": "47cc6e65-9794-4408-b851-11f1efbf9ed2",
   "metadata": {},
   "source": [
    "###  1.What is the most common type of insurance claim?"
   ]
  },
  {
   "cell_type": "code",
   "execution_count": 4,
   "id": "c24d7c7d-bbaa-4655-ae5c-818a03d8763c",
   "metadata": {},
   "outputs": [
    {
     "name": "stdout",
     "output_type": "stream",
     "text": [
      "Passenger Property Loss\n"
     ]
    }
   ],
   "source": [
    "most_common_claim_type = tsa_claims2_df['Claim Type'].value_counts().index[0]\n",
    "print(most_common_claim_type)"
   ]
  },
  {
   "cell_type": "markdown",
   "id": "9af8882a-e9b5-4b90-a558-58d43ffffad6",
   "metadata": {},
   "source": [
    "###  2.Which claim site within the airport are claims most commonly filed for?"
   ]
  },
  {
   "cell_type": "code",
   "execution_count": 5,
   "id": "e76da9d7-0b5f-4914-b870-1c6cef05f713",
   "metadata": {},
   "outputs": [
    {
     "name": "stdout",
     "output_type": "stream",
     "text": [
      "The most common claim site is: Checked Baggage\n"
     ]
    }
   ],
   "source": [
    "common_claim_site = tsa_claims2_df['Claim Site'].value_counts().index[0]\n",
    "print(\"The most common claim site is:\", common_claim_site)"
   ]
  },
  {
   "cell_type": "markdown",
   "id": "3c613a86-e897-446a-b9a6-b406af4a7379",
   "metadata": {},
   "source": [
    "### 3.What type of claim is made most at each claim site?"
   ]
  },
  {
   "cell_type": "code",
   "execution_count": 6,
   "id": "c1bc3dfe-1673-45f8-873b-841298a73549",
   "metadata": {},
   "outputs": [
    {
     "name": "stdout",
     "output_type": "stream",
     "text": [
      "         Claim Site               Claim Type  Count\n",
      "0                 -                        -    127\n",
      "7       Bus Station  Passenger Property Loss      9\n",
      "15  Checked Baggage  Passenger Property Loss  99708\n",
      "27       Checkpoint          Property Damage  20572\n",
      "30    Motor Vehicle            Motor Vehicle    320\n",
      "43            Other          Property Damage    477\n"
     ]
    }
   ],
   "source": [
    "# Group by Claim Site and Claim Type, then count the number of occurrences\n",
    "claims_by_site_type = tsa_claims2_df.groupby(['Claim Site', 'Claim Type']).size().reset_index(name='Count')\n",
    "\n",
    "# Get the index of the maximum count for each claim site\n",
    "max_counts_by_site = claims_by_site_type.groupby('Claim Site')['Count'].idxmax()\n",
    "\n",
    "# Subset the original DataFrame with only the rows corresponding to the max count for each claim site\n",
    "most_common_claim_type_by_site = claims_by_site_type.loc[max_counts_by_site]\n",
    "\n",
    "# Print the result\n",
    "print(most_common_claim_type_by_site)\n"
   ]
  },
  {
   "cell_type": "markdown",
   "id": "93c40b05-6771-4e4a-ab7f-fefb144d9b06",
   "metadata": {},
   "source": [
    "### 4.What is the typical claim amount?"
   ]
  },
  {
   "cell_type": "code",
   "execution_count": 7,
   "id": "5ff4ce25-e2d8-45d6-ac49-5202e51fdbb1",
   "metadata": {},
   "outputs": [
    {
     "name": "stdout",
     "output_type": "stream",
     "text": [
      "count     200224\n",
      "unique     36117\n",
      "top       $0.00 \n",
      "freq       28445\n",
      "Name: Claim Amount, dtype: object\n"
     ]
    }
   ],
   "source": [
    "# compute summary statistics for Claim Amount\n",
    "claim_stats = tsa_claims2_df['Claim Amount'].describe()\n",
    "print(claim_stats)\n",
    "\n"
   ]
  },
  {
   "cell_type": "code",
   "execution_count": 8,
   "id": "36e25922-8248-4f66-aa77-f5bbbbc0cbbe",
   "metadata": {},
   "outputs": [
    {
     "name": "stdout",
     "output_type": "stream",
     "text": [
      "The typical claim amount is $95.0\n"
     ]
    }
   ],
   "source": [
    "# read the CSV file into a Pandas dataframe\n",
    "tsa_claims = pd.read_csv('tsa_claims2.csv',low_memory=False, dtype={'Claim Number': str, 'Airport Code': str})\n",
    "\n",
    "# clean up the Claim Amount column by removing dollar signs and extra whitespace\n",
    "tsa_claims['Claim Amount'] = tsa_claims['Claim Amount'].str.replace('$', '').str.strip()\n",
    "\n",
    "# convert the Claim Amount column to numeric values\n",
    "tsa_claims['Claim Amount'] = pd.to_numeric(tsa_claims['Claim Amount'], errors='coerce')\n",
    "\n",
    "# calculate the median claim amount\n",
    "median_claim_amount = tsa_claims['Claim Amount'].median()\n",
    "\n",
    "# print the result to the console\n",
    "print(\"The typical claim amount is $\" + str(median_claim_amount))"
   ]
  },
  {
   "cell_type": "markdown",
   "id": "2a258fea-447c-4915-abb0-2894ba1e47e7",
   "metadata": {},
   "source": [
    "### 5.What is the overall claim approval rate for the entire U.S.?"
   ]
  },
  {
   "cell_type": "code",
   "execution_count": 9,
   "id": "ddc26e3f-4f62-40c0-99df-d2f3a4c206db",
   "metadata": {},
   "outputs": [
    {
     "name": "stdout",
     "output_type": "stream",
     "text": [
      "The overall claim approval rate for the entire U.S. is 22.01%\n"
     ]
    }
   ],
   "source": [
    "# Filter for only U.S. claims\n",
    "us_claims = tsa_claims2_df[tsa_claims2_df['Claim Site'] == 'Checkpoint']\n",
    "\n",
    "# Calculate total number of claims\n",
    "total_claims = len(us_claims)\n",
    "\n",
    "# Calculate number of approved claims\n",
    "approved_claims = len(us_claims[us_claims['Status'] == 'Approved'])\n",
    "\n",
    "# Calculate claim approval rate\n",
    "approval_rate = approved_claims / total_claims * 100\n",
    "\n",
    "# Print result\n",
    "print(f\"The overall claim approval rate for the entire U.S. is {approval_rate:.2f}%\")\n"
   ]
  },
  {
   "cell_type": "markdown",
   "id": "4f0ce9bd-df0a-4648-9a65-e5a004c951c1",
   "metadata": {},
   "source": [
    "### 6.If a claim is approved or settled, what percent of the claim amount do the airports pay?"
   ]
  },
  {
   "cell_type": "code",
   "execution_count": 10,
   "id": "e485787c-99d1-4fbf-b95a-3584406fa3b5",
   "metadata": {},
   "outputs": [
    {
     "name": "stdout",
     "output_type": "stream",
     "text": [
      "       Claim Amount Close Amount Disposition\n",
      "133852   $9;500.00      $190.00       Settle\n",
      "40306    $9;494.13    $3;094.13       Settle\n",
      "110777   $9;398.00    $2;750.00       Settle\n",
      "4187     $9;242.48    $1;044.74       Settle\n",
      "10025    $9;175.00    $2;000.00       Settle\n"
     ]
    }
   ],
   "source": [
    "# Select the desired columns and convert the 'Claim Amount' and 'Close Amount' columns to numeric\n",
    "selected_cols = ['Claim Amount', 'Close Amount', 'Disposition']\n",
    "tsa_claims_filtered = tsa_claims2_df[selected_cols]\n",
    "\n",
    "# Filter the DataFrame to include only rows with Disposition of \"Approve in Full\" or \"Settle\"\n",
    "tsa_claims_filtered = tsa_claims_filtered[tsa_claims2_df['Disposition'].isin(['Approve in Full', 'Settle'])]\n",
    "\n",
    "# Sort the DataFrame by Claim Amount, Close Amount, and Disposition\n",
    "tsa_claims_sorted = tsa_claims_filtered.sort_values(by=['Claim Amount', 'Close Amount', 'Disposition'], ascending=False)\n",
    "\n",
    "# Print the sorted DataFrame\n",
    "print(tsa_claims_sorted.head())"
   ]
  },
  {
   "cell_type": "markdown",
   "id": "123cd798-a118-4cd7-ad5f-e16d44707123",
   "metadata": {},
   "source": [
    "### 7.What are the five airports with the most claims?"
   ]
  },
  {
   "cell_type": "code",
   "execution_count": 11,
   "id": "b34d2176-0991-4c2c-99d1-06c9ffdd1c74",
   "metadata": {},
   "outputs": [
    {
     "name": "stdout",
     "output_type": "stream",
     "text": [
      "The five airports with the most claims are:\n",
      "\n",
      "247. LAX with 9596 claims\n",
      "233. JFK with 9232 claims\n",
      "139. EWR with 6866 claims\n",
      "322. ORD with 6843 claims\n",
      "289. MIA with 6432 claims\n"
     ]
    }
   ],
   "source": [
    "import pandas as pd\n",
    "\n",
    "# Load the TSA claims dataset into a pandas dataframe\n",
    "tsa_claims2_df = pd.read_csv('tsa_claims2.csv',low_memory=False)\n",
    "\n",
    "# Group the claims by airport code and count the number of claims for each airport\n",
    "claims_by_airport = tsa_claims2_df.groupby('Airport Code').size().reset_index(name='Claim Count')\n",
    "\n",
    "# Sort the airports in descending order by the count of claims\n",
    "top_airports = claims_by_airport.sort_values('Claim Count', ascending=False).head(5)\n",
    "\n",
    "print(\"The five airports with the most claims are:\\n\")\n",
    "for i, row in top_airports.iterrows():\n",
    "    print(f\"{i+1}. {row['Airport Code']} with {row['Claim Count']} claims\")\n"
   ]
  },
  {
   "cell_type": "markdown",
   "id": "95758e6c-01df-47f3-9ce0-99858210b8f2",
   "metadata": {},
   "source": [
    "###  8.Has the total close amount increased or decreased over time"
   ]
  },
  {
   "cell_type": "code",
   "execution_count": 30,
   "id": "f1200e43-4f85-40c6-a18e-393725412233",
   "metadata": {},
   "outputs": [
    {
     "name": "stdout",
     "output_type": "stream",
     "text": [
      "Total price values after reading dataset\n",
      "0    350.00\n",
      "1     50.00\n",
      "2    227.92\n",
      "3     50.00\n",
      "4     84.79\n",
      "Name: Close Amount, dtype: float64\n",
      "Total price values after using pd.to_numeric\n",
      "0    350.00\n",
      "1     50.00\n",
      "2    227.92\n",
      "3     50.00\n",
      "4     84.79\n",
      "Name: Close Amount, dtype: float64\n"
     ]
    },
    {
     "data": {
      "image/png": "[encoded data removed]",
      "text/plain": [
       "<Figure size 1000x600 with 1 Axes>"
      ]
     },
     "metadata": {},
     "output_type": "display_data"
    }
   ],
   "source": [
    "# Print preview to show price has $ which prevents the series from being numeric data type\n",
    "print('Total price values after reading dataset')\n",
    "print(tsa_claims2_df['Close Amount'][0:5])\n",
    "\n",
    "# Convert Close Amount column to numeric format\n",
    "tsa_claims2_df['Close Amount'] = pd.to_numeric(tsa_claims2_df['Close Amount'], errors='coerce')\n",
    "\n",
    "# Convert Date Received column to datetime format\n",
    "tsa_claims2_df['Date Received'] = pd.to_datetime(tsa_claims2_df['Date Received'], format='%d-%b-%y')\n",
    "\n",
    "# Group data by date and sum the Total Close Amount for each date\n",
    "claims_by_date = tsa_claims2_df.groupby('Date Received')['Close Amount'].sum()\n",
    "\n",
    "# Print preview to show bad conversion using pd.to_numeric, null values returned because we need to remove $\n",
    "print('Total price values after using pd.to_numeric')\n",
    "print(tsa_claims2_df['Close Amount'][0:5])\n",
    "\n",
    "# Plot the Total Close Amount over time\n",
    "claims_by_date.plot(figsize=(10,6))\n",
    "plt.title('Total Close Amount over Time')\n",
    "plt.xlabel('Date')\n",
    "plt.ylabel('Total Close Amount ($)')\n",
    "plt.show()\n"
   ]
  },
  {
   "cell_type": "code",
   "execution_count": null,
   "id": "e437de77-74c9-49a1-b08e-4d6126bfd414",
   "metadata": {},
   "outputs": [],
   "source": []
  }
 ],
 "metadata": {
  "kernelspec": {
   "display_name": "Python 3 (ipykernel)",
   "language": "python",
   "name": "python3"
  },
  "language_info": {
   "codemirror_mode": {
    "name": "ipython",
    "version": 3
   },
   "file_extension": ".py",
   "mimetype": "text/x-python",
   "name": "python",
   "nbconvert_exporter": "python",
   "pygments_lexer": "ipython3",
   "version": "3.9.13"
  }
 },
 "nbformat": 4,
 "nbformat_minor": 5
}
