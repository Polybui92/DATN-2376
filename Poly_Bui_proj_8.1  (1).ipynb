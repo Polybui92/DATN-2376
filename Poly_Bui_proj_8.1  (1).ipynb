{
 "cells": [
  {
   "cell_type": "markdown",
   "id": "347ca603-06ed-4e2e-9835-af46e3735ffc",
   "metadata": {},
   "source": [
    "### 1.Read the data from the CSV file into a DataFrame and display the first five rows."
   ]
  },
  {
   "cell_type": "code",
   "execution_count": 1,
   "id": "553de614-2c37-4a32-8032-b5920343befc",
   "metadata": {},
   "outputs": [],
   "source": [
    "import pandas as pd"
   ]
  },
  {
   "cell_type": "code",
   "execution_count": 2,
   "id": "1c23f620-ef0e-4c3a-a8b0-d4bcd299ce19",
   "metadata": {},
   "outputs": [],
   "source": [
    "# polls_filepath = 'C:/DATA/ramen-ratings.csv'\n",
    "ramen_filepath  = 'C:/DATA/ramen-ratings.csv'\n",
    "ramen_df =pd.read_csv(ramen_filepath)"
   ]
  },
  {
   "cell_type": "code",
   "execution_count": 3,
   "id": "8c8d03ed-bf7c-4f48-80c2-a0eaed873a8f",
   "metadata": {},
   "outputs": [
    {
     "data": {
      "text/html": [
       "<div>\n",
       "<style scoped>\n",
       "    .dataframe tbody tr th:only-of-type {\n",
       "        vertical-align: middle;\n",
       "    }\n",
       "\n",
       "    .dataframe tbody tr th {\n",
       "        vertical-align: top;\n",
       "    }\n",
       "\n",
       "    .dataframe thead th {\n",
       "        text-align: right;\n",
       "    }\n",
       "</style>\n",
       "<table border=\"1\" class=\"dataframe\">\n",
       "  <thead>\n",
       "    <tr style=\"text-align: right;\">\n",
       "      <th></th>\n",
       "      <th>Brand</th>\n",
       "      <th>Variety</th>\n",
       "      <th>Style</th>\n",
       "      <th>Country</th>\n",
       "      <th>Stars</th>\n",
       "    </tr>\n",
       "  </thead>\n",
       "  <tbody>\n",
       "    <tr>\n",
       "      <th>0</th>\n",
       "      <td>New Touch</td>\n",
       "      <td>T's Restaurant Tantanmen</td>\n",
       "      <td>Cup</td>\n",
       "      <td>Japan</td>\n",
       "      <td>3.75</td>\n",
       "    </tr>\n",
       "    <tr>\n",
       "      <th>1</th>\n",
       "      <td>Just Way</td>\n",
       "      <td>Noodles Spicy Hot Sesame Spicy Hot Sesame Guan...</td>\n",
       "      <td>Pack</td>\n",
       "      <td>Taiwan</td>\n",
       "      <td>1.00</td>\n",
       "    </tr>\n",
       "    <tr>\n",
       "      <th>2</th>\n",
       "      <td>Nissin</td>\n",
       "      <td>Cup Noodles Chicken Vegetable</td>\n",
       "      <td>Cup</td>\n",
       "      <td>USA</td>\n",
       "      <td>2.25</td>\n",
       "    </tr>\n",
       "    <tr>\n",
       "      <th>3</th>\n",
       "      <td>Wei Lih</td>\n",
       "      <td>GGE Ramen Snack Tomato Flavor</td>\n",
       "      <td>Pack</td>\n",
       "      <td>Taiwan</td>\n",
       "      <td>2.75</td>\n",
       "    </tr>\n",
       "    <tr>\n",
       "      <th>4</th>\n",
       "      <td>Ching's Secret</td>\n",
       "      <td>Singapore Curry</td>\n",
       "      <td>Pack</td>\n",
       "      <td>India</td>\n",
       "      <td>3.75</td>\n",
       "    </tr>\n",
       "  </tbody>\n",
       "</table>\n",
       "</div>"
      ],
      "text/plain": [
       "            Brand                                            Variety Style  \\\n",
       "0       New Touch                          T's Restaurant Tantanmen    Cup   \n",
       "1        Just Way  Noodles Spicy Hot Sesame Spicy Hot Sesame Guan...  Pack   \n",
       "2          Nissin                      Cup Noodles Chicken Vegetable   Cup   \n",
       "3         Wei Lih                      GGE Ramen Snack Tomato Flavor  Pack   \n",
       "4  Ching's Secret                                    Singapore Curry  Pack   \n",
       "\n",
       "  Country  Stars  \n",
       "0   Japan   3.75  \n",
       "1  Taiwan   1.00  \n",
       "2     USA   2.25  \n",
       "3  Taiwan   2.75  \n",
       "4   India   3.75  "
      ]
     },
     "execution_count": 3,
     "metadata": {},
     "output_type": "execute_result"
    }
   ],
   "source": [
    "ramen_df.head(5)"
   ]
  },
  {
   "cell_type": "markdown",
   "id": "a7199a27-a256-4c6d-8ac5-e257a09fa6f0",
   "metadata": {},
   "source": [
    "### 2.Group the data and get the average of the groups to produce a DataFrame that looks like this:"
   ]
  },
  {
   "cell_type": "code",
   "execution_count": 4,
   "id": "8ebeac12-a285-4ae7-a459-f3b78d9beaed",
   "metadata": {},
   "outputs": [
    {
     "name": "stdout",
     "output_type": "stream",
     "text": [
      "       Country         Brand Style     Stars\n",
      "0    Australia     Fantastic   Cup  3.041667\n",
      "1    Australia         Maggi  Pack  5.000000\n",
      "2    Australia      Singa-Me   Cup  2.833333\n",
      "3    Australia        Suimin   Cup  3.287500\n",
      "4    Australia       Trident  Pack  2.750000\n",
      "..         ...           ...   ...       ...\n",
      "573    Vietnam         Vifon  Pack  2.877273\n",
      "574    Vietnam  Vina Acecook  Bowl  3.812500\n",
      "575    Vietnam  Vina Acecook   Cup  2.500000\n",
      "576    Vietnam  Vina Acecook  Pack  3.535714\n",
      "577    Vietnam  Vina Acecook  Tray  3.500000\n",
      "\n",
      "[578 rows x 4 columns]\n"
     ]
    }
   ],
   "source": [
    "ramen_grouped = ramen_df.groupby(['Country', 'Brand', 'Style'], as_index=False)['Stars'].mean()\n",
    "print(ramen_grouped)\n",
    "\n",
    "\n"
   ]
  },
  {
   "cell_type": "markdown",
   "id": "6995ee23-972c-495b-adef-00d673e8be7d",
   "metadata": {},
   "source": [
    "### 3.Group the data in the same way, but this time get both the average and the count."
   ]
  },
  {
   "cell_type": "code",
   "execution_count": 6,
   "id": "e726a0b3-a964-4487-ac9b-500ce0f2d716",
   "metadata": {},
   "outputs": [
    {
     "name": "stdout",
     "output_type": "stream",
     "text": [
      "          Country  Avg_Stars  Count\n",
      "0       Australia   3.138636     22\n",
      "1      Bangladesh   3.714286      7\n",
      "2          Brazil   4.350000      5\n",
      "3        Cambodia   4.200000      5\n",
      "4          Canada   2.243902     41\n",
      "5           China   3.421893    169\n",
      "6        Colombia   3.291667      6\n",
      "7           Dubai   3.583333      3\n",
      "8         Estonia   3.500000      2\n",
      "9            Fiji   3.875000      4\n",
      "10        Finland   3.583333      3\n",
      "11        Germany   3.638889     27\n",
      "12          Ghana   3.500000      2\n",
      "13        Holland   3.562500      4\n",
      "14      Hong Kong   3.801825    137\n",
      "15        Hungary   3.611111      9\n",
      "16          India   3.395161     31\n",
      "17      Indonesia   4.067460    126\n",
      "18          Japan   3.981605    352\n",
      "19       Malaysia   4.154194    155\n",
      "20         Mexico   3.730000     25\n",
      "21        Myanmar   3.946429     14\n",
      "22          Nepal   3.553571     14\n",
      "23    Netherlands   2.483333     15\n",
      "24        Nigeria   1.500000      1\n",
      "25       Pakistan   3.000000      9\n",
      "26    Philippines   3.329787     47\n",
      "27         Poland   3.625000      4\n",
      "28        Sarawak   4.333333      3\n",
      "29      Singapore   4.126147    109\n",
      "30    South Korea   3.790554    307\n",
      "31         Sweden   3.250000      3\n",
      "32         Taiwan   3.665402    224\n",
      "33       Thailand   3.384817    191\n",
      "34             UK   2.997101     69\n",
      "35            USA   3.457043    323\n",
      "36  United States   3.750000      1\n",
      "37        Vietnam   3.187963    108\n"
     ]
    }
   ],
   "source": [
    "ramen_grouped = ramen_df.groupby(['Country'], as_index=False)['Stars'].agg(['mean', 'count']).reset_index()\n",
    "ramen_grouped.columns = ['Country', 'Avg_Stars', 'Count']\n",
    "print(ramen_grouped)\n"
   ]
  },
  {
   "cell_type": "markdown",
   "id": "a5e30d2f-3a57-4915-b8aa-b278962a4538",
   "metadata": {},
   "source": [
    "### 4.Create a pivot table that shows the average stars by ramen style for each country."
   ]
  },
  {
   "cell_type": "code",
   "execution_count": 7,
   "id": "ce91fec5-2b57-4431-b170-374ea57c521c",
   "metadata": {},
   "outputs": [
    {
     "name": "stdout",
     "output_type": "stream",
     "text": [
      "Style          Bar      Bowl   Box  Can       Cup      Pack      Tray\n",
      "Country                                                              \n",
      "Australia      NaN       NaN   NaN  NaN  3.120588  3.200000       NaN\n",
      "Bangladesh     NaN       NaN   NaN  NaN       NaN  3.714286       NaN\n",
      "Brazil         NaN       NaN   NaN  NaN  4.500000  4.250000       NaN\n",
      "Cambodia       NaN       NaN   NaN  NaN       NaN  4.200000       NaN\n",
      "Canada         NaN  2.281250   NaN  NaN  1.970588  2.515625       NaN\n",
      "China          NaN  3.527778   NaN  NaN  2.859375  3.538776  2.583333\n",
      "Colombia       NaN       NaN   NaN  NaN  3.083333  3.500000       NaN\n",
      "Dubai          NaN       NaN   NaN  NaN       NaN  3.583333       NaN\n",
      "Estonia        NaN       NaN   NaN  NaN       NaN  3.500000       NaN\n",
      "Fiji           NaN       NaN   NaN  NaN       NaN  3.875000       NaN\n",
      "Finland        NaN       NaN   NaN  NaN       NaN  3.583333       NaN\n",
      "Germany        NaN       NaN   NaN  NaN  3.704545  3.593750       NaN\n",
      "Ghana          NaN       NaN   NaN  NaN       NaN  3.500000       NaN\n",
      "Holland        NaN       NaN   NaN  NaN       NaN  3.562500       NaN\n",
      "Hong Kong      NaN  3.735000   NaN  NaN  4.039474  3.702239  3.625000\n",
      "Hungary        NaN       NaN   NaN  NaN       NaN  3.611111       NaN\n",
      "India          NaN       NaN   NaN  NaN  2.583333  3.482143       NaN\n",
      "Indonesia      NaN       NaN  4.25  NaN  3.940476  4.091346       NaN\n",
      "Japan          NaN  4.140278  5.00  NaN  3.940816  3.801613  4.375000\n",
      "Malaysia       NaN  4.281250  5.00  NaN  4.011905  4.156452       NaN\n",
      "Mexico         NaN       NaN   NaN  NaN  3.733333  3.725000       NaN\n",
      "Myanmar        NaN       NaN   NaN  NaN  4.083333  3.909091       NaN\n",
      "Nepal          NaN       NaN   NaN  NaN       NaN  3.553571       NaN\n",
      "Netherlands    NaN       NaN   NaN  NaN  1.333333  2.770833       NaN\n",
      "Nigeria        NaN       NaN   NaN  NaN       NaN  1.500000       NaN\n",
      "Pakistan       NaN       NaN   NaN  NaN       NaN  3.000000       NaN\n",
      "Philippines    NaN  3.375000   NaN  NaN  2.937500  3.363636       NaN\n",
      "Poland         NaN       NaN   NaN  NaN       NaN  3.625000       NaN\n",
      "Sarawak        NaN       NaN   NaN  NaN       NaN  4.333333       NaN\n",
      "Singapore      NaN  4.096154   NaN  NaN  3.925926  4.210145       NaN\n",
      "South Korea    NaN  3.865809   NaN  NaN  3.500000  3.857459  3.479167\n",
      "Sweden         NaN       NaN   NaN  NaN       NaN  3.250000       NaN\n",
      "Taiwan         NaN  3.263514   NaN  NaN  3.250000  3.761326  3.333333\n",
      "Thailand       NaN  3.142045   NaN  NaN  3.588542  3.386598  3.750000\n",
      "UK             NaN  3.250000   NaN  NaN  2.978125  3.000000       NaN\n",
      "USA            5.0  3.400000  1.50  3.5  3.376786  3.554688  3.408654\n",
      "United States  NaN       NaN   NaN  NaN       NaN  3.750000       NaN\n",
      "Vietnam        NaN  3.362500   NaN  NaN  2.656250  3.183333  3.750000\n"
     ]
    }
   ],
   "source": [
    "ramen_pivot = pd.pivot_table(ramen_df, values='Stars', index='Country', columns='Style', aggfunc='mean')\n",
    "print(ramen_pivot)\n"
   ]
  },
  {
   "cell_type": "markdown",
   "id": "9264634d-f48d-4591-af75-a8b11fcaa4c0",
   "metadata": {
    "tags": []
   },
   "source": [
    "### 5.Calculate the total number of stars for each country, and then rank the countries in descending order by total stars."
   ]
  },
  {
   "cell_type": "code",
   "execution_count": 12,
   "id": "c41ebfd0-e9b4-485c-9419-474aa7aa7d3c",
   "metadata": {},
   "outputs": [
    {
     "name": "stdout",
     "output_type": "stream",
     "text": [
      "          Country     Stars  Rank\n",
      "0           Japan  1401.525   1.0\n",
      "1     South Korea  1163.700   2.0\n",
      "2             USA  1116.625   3.0\n",
      "3          Taiwan   821.050   4.0\n",
      "4        Thailand   646.500   5.0\n",
      "5        Malaysia   643.900   6.0\n",
      "6           China   578.300   7.0\n",
      "7       Hong Kong   520.850   8.0\n",
      "8       Indonesia   512.500   9.0\n",
      "9       Singapore   449.750  10.0\n",
      "10        Vietnam   344.300  11.0\n",
      "11             UK   206.800  12.0\n",
      "12    Philippines   156.500  13.0\n",
      "13          India   105.250  14.0\n",
      "14        Germany    98.250  15.0\n",
      "15         Mexico    93.250  16.0\n",
      "16         Canada    92.000  17.0\n",
      "17      Australia    69.050  18.0\n",
      "18        Myanmar    55.250  19.0\n",
      "19          Nepal    49.750  20.0\n",
      "20    Netherlands    37.250  21.0\n",
      "21        Hungary    32.500  22.0\n",
      "22       Pakistan    27.000  23.0\n",
      "23     Bangladesh    26.000  24.0\n",
      "24         Brazil    21.750  25.0\n",
      "25       Cambodia    21.000  26.0\n",
      "26       Colombia    19.750  27.0\n",
      "27           Fiji    15.500  28.0\n",
      "28         Poland    14.500  29.0\n",
      "29        Holland    14.250  30.0\n",
      "30        Sarawak    13.000  31.0\n",
      "31        Finland    10.750  32.0\n",
      "32          Dubai    10.750  32.0\n",
      "33         Sweden     9.750  34.0\n",
      "34          Ghana     7.000  35.0\n",
      "35        Estonia     7.000  35.0\n",
      "36  United States     3.750  37.0\n",
      "37        Nigeria     1.500  38.0\n"
     ]
    }
   ],
   "source": [
    "ramen_totals = ramen_df.groupby('Country')['Stars'].sum().reset_index()\n",
    "ramen_totals['Rank'] = ramen_totals['Stars'].rank(ascending=False, method='min')\n",
    "ramen_totals = ramen_totals.sort_values('Rank').reset_index(drop=True)\n",
    "print(ramen_totals)\n"
   ]
  },
  {
   "cell_type": "markdown",
   "id": "344aa0ee-8a76-491e-81fd-b8b8fca17695",
   "metadata": {},
   "source": [
    "#### 6.Bin the stars data into 11 bins. Label the bins from 0.0 to 5.0 in increments of .5, and then display the count of the stars in each bin."
   ]
  },
  {
   "cell_type": "code",
   "execution_count": 13,
   "id": "ba3c53c6-a6a9-491e-925b-307b0d1a21c0",
   "metadata": {},
   "outputs": [
    {
     "name": "stdout",
     "output_type": "stream",
     "text": [
      "0.0-0.5     26\n",
      "0.5-1.0     28\n",
      "1.0-1.5     49\n",
      "1.5-2.0     96\n",
      "2.0-2.5     92\n",
      "2.5-3.0    266\n",
      "3.0-3.5    511\n",
      "3.5-4.0    749\n",
      "4.0-4.5    284\n",
      "4.5-5.0    450\n",
      "Name: Stars Binned, dtype: int64\n"
     ]
    }
   ],
   "source": [
    "bins = [i/2 for i in range(11)]\n",
    "ramen_df['Stars Binned'] = pd.cut(ramen_df['Stars'], bins=bins, labels=[f\"{i/2}-{(i+1)/2}\" for i in range(10)])\n",
    "star_counts = ramen_df['Stars Binned'].value_counts().sort_index()\n",
    "print(star_counts)\n"
   ]
  },
  {
   "cell_type": "markdown",
   "id": "23c10c25-83f0-4a90-b942-be7c821186a2",
   "metadata": {},
   "source": [
    "### 7.Bin the stars data into five quantiles. Give each bin a descriptive label, and then display the count of the stars in each bin."
   ]
  },
  {
   "cell_type": "code",
   "execution_count": 14,
   "id": "00c40ddc-f675-4d90-8cbe-6cbe37f3bd4b",
   "metadata": {},
   "outputs": [
    {
     "name": "stdout",
     "output_type": "stream",
     "text": [
      "Very Low     583\n",
      "Low          511\n",
      "Medium       749\n",
      "High         284\n",
      "Very High    450\n",
      "Name: Stars Quantile, dtype: int64\n"
     ]
    }
   ],
   "source": [
    "ramen_df['Stars Quantile'] = pd.qcut(ramen_df['Stars'], q=5, labels=['Very Low', 'Low', 'Medium', 'High', 'Very High'])\n",
    "star_counts = ramen_df['Stars Quantile'].value_counts().sort_index()\n",
    "print(star_counts)\n"
   ]
  },
  {
   "cell_type": "markdown",
   "id": "31f85c61-8194-4413-a566-73f137d212a3",
   "metadata": {},
   "source": [
    "###  Question 1. Which five countries have the most stars overall? Hint: Use the grouped data that you created in task 5."
   ]
  },
  {
   "cell_type": "code",
   "execution_count": 17,
   "id": "32572e9d-8b26-404d-bc9e-800be3a0b87f",
   "metadata": {},
   "outputs": [
    {
     "name": "stdout",
     "output_type": "stream",
     "text": [
      "        Country     Stars\n",
      "18        Japan  1401.525\n",
      "30  South Korea  1163.700\n",
      "35          USA  1116.625\n",
      "32       Taiwan   821.050\n",
      "33     Thailand   646.500\n"
     ]
    }
   ],
   "source": [
    "stars_by_country = ramen_df.groupby('Country')['Stars'].sum().reset_index()\n",
    "top_countries = stars_by_country.sort_values('Stars', ascending=False).head(5)\n",
    "print(top_countries[['Country', 'Stars']])\n"
   ]
  },
  {
   "cell_type": "markdown",
   "id": "f0b7e85e-0943-4369-af77-421b11f66579",
   "metadata": {},
   "source": [
    "### Question2:What is the only country that produces canned ramen?"
   ]
  },
  {
   "cell_type": "code",
   "execution_count": 18,
   "id": "77b4c0db-d775-48da-bcda-1cf9051c6496",
   "metadata": {},
   "outputs": [
    {
     "name": "stdout",
     "output_type": "stream",
     "text": [
      "['USA']\n"
     ]
    }
   ],
   "source": [
    "canned_ramen = ramen_df[ramen_df['Style'] == 'Can']\n",
    "unique_countries = canned_ramen['Country'].unique()\n",
    "print(unique_countries)\n"
   ]
  }
 ],
 "metadata": {
  "kernelspec": {
   "display_name": "Python 3 (ipykernel)",
   "language": "python",
   "name": "python3"
  },
  "language_info": {
   "codemirror_mode": {
    "name": "ipython",
    "version": 3
   },
   "file_extension": ".py",
   "mimetype": "text/x-python",
   "name": "python",
   "nbconvert_exporter": "python",
   "pygments_lexer": "ipython3",
   "version": "3.9.13"
  }
 },
 "nbformat": 4,
 "nbformat_minor": 5
}
